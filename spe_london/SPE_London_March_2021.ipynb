{
  "nbformat": 4,
  "nbformat_minor": 0,
  "metadata": {
    "colab": {
      "name": "SPE_London_March_2021.ipynb",
      "provenance": [],
      "authorship_tag": "ABX9TyOBygK5tkZAP6Ske6Z0d7f4",
      "include_colab_link": true
    },
    "kernelspec": {
      "name": "python3",
      "display_name": "Python 3"
    }
  },
  "cells": [
    {
      "cell_type": "markdown",
      "metadata": {
        "id": "view-in-github",
        "colab_type": "text"
      },
      "source": [
        "<a href=\"https://colab.research.google.com/github/orkahub/PEG_Python/blob/master/spe_london/SPE_London_March_2021.ipynb\" target=\"_parent\"><img src=\"https://colab.research.google.com/assets/colab-badge.svg\" alt=\"Open In Colab\"/></a>"
      ]
    },
    {
      "cell_type": "markdown",
      "metadata": {
        "id": "CZrYju83ddqk"
      },
      "source": [
        "# My SPE London showcase with Python - Ex1"
      ]
    },
    {
      "cell_type": "code",
      "metadata": {
        "id": "2S5GOdqJeZIa"
      },
      "source": [
        "# Let's import some libraries\r\n",
        "import math\r\n",
        "import pandas\r\n",
        "import matplotlib.pyplot as plt\r\n",
        "from scipy.optimize import curve_fit"
      ],
      "execution_count": 46,
      "outputs": []
    },
    {
      "cell_type": "code",
      "metadata": {
        "colab": {
          "base_uri": "https://localhost:8080/"
        },
        "id": "1FerJ_c7cabq",
        "outputId": "0ceb5339-0ce1-4b60-b76d-5eb4e5c5838e"
      },
      "source": [
        "# This is a quick illustration of variables\r\n",
        "a = 2\r\n",
        "b = 3\r\n",
        "a + b"
      ],
      "execution_count": 2,
      "outputs": [
        {
          "output_type": "execute_result",
          "data": {
            "text/plain": [
              "5"
            ]
          },
          "metadata": {
            "tags": []
          },
          "execution_count": 2
        }
      ]
    },
    {
      "cell_type": "markdown",
      "metadata": {
        "id": "XtTd_Cykd2CI"
      },
      "source": [
        "## This is the raw data from a production well"
      ]
    },
    {
      "cell_type": "code",
      "metadata": {
        "id": "JM9q14Wcdv0F"
      },
      "source": [
        "times = [0.01, 30, 61, 91, 122, 153, 183, 214, 244, 275, 306, 334, 365, 395, 426, 456, 487, 518, 548, 579, 609, 640, 671, 699, 730, 760, 791]\r\n",
        "\r\n",
        "well_rate = [248.956137704918, 434.084242622951, 383.696186885246, 400.761678688525, 322.644003278689, \r\n",
        "             225.643954098361, 208.289740983607, 168.054363934426, 145.511416393443, 150.106209836066, \r\n",
        "             133.21188852459, 112.300216393443, 114.898708196721, 103.527213114754, 137.146747540984, \r\n",
        "             204.845708196721, 186.109757377049, 153.191403278689, 156.666370491803, 145.631029508197, \r\n",
        "             142.323108196721, 144.104931147541, 130.759819672131, 118.414921311475, 129.520380327869, \r\n",
        "             119.386262295082, 120.372039344262]"
      ],
      "execution_count": 21,
      "outputs": []
    },
    {
      "cell_type": "code",
      "metadata": {
        "colab": {
          "base_uri": "https://localhost:8080/"
        },
        "id": "1ypgKutdeFTf",
        "outputId": "abd647a4-38bd-4a3b-abaa-95d3d974b3bf"
      },
      "source": [
        "type(times)"
      ],
      "execution_count": 22,
      "outputs": [
        {
          "output_type": "execute_result",
          "data": {
            "text/plain": [
              "list"
            ]
          },
          "metadata": {
            "tags": []
          },
          "execution_count": 22
        }
      ]
    },
    {
      "cell_type": "code",
      "metadata": {
        "colab": {
          "base_uri": "https://localhost:8080/"
        },
        "id": "vSFdkrwqePH6",
        "outputId": "75f3d41a-3148-44fc-ae7d-a9d3e9fafc3b"
      },
      "source": [
        "times[1]"
      ],
      "execution_count": 23,
      "outputs": [
        {
          "output_type": "execute_result",
          "data": {
            "text/plain": [
              "30"
            ]
          },
          "metadata": {
            "tags": []
          },
          "execution_count": 23
        }
      ]
    },
    {
      "cell_type": "code",
      "metadata": {
        "colab": {
          "base_uri": "https://localhost:8080/"
        },
        "id": "lgylcEgveR5v",
        "outputId": "8bd4835e-4094-4bdd-e6e9-b0dc7fcf60b1"
      },
      "source": [
        "type(times[1])"
      ],
      "execution_count": 24,
      "outputs": [
        {
          "output_type": "execute_result",
          "data": {
            "text/plain": [
              "int"
            ]
          },
          "metadata": {
            "tags": []
          },
          "execution_count": 24
        }
      ]
    },
    {
      "cell_type": "code",
      "metadata": {
        "colab": {
          "base_uri": "https://localhost:8080/"
        },
        "id": "FAZDWNu2eVsT",
        "outputId": "23703ebd-eac3-4443-8e0a-cb06c3e30309"
      },
      "source": [
        "math.log10(1000)"
      ],
      "execution_count": 25,
      "outputs": [
        {
          "output_type": "execute_result",
          "data": {
            "text/plain": [
              "3.0"
            ]
          },
          "metadata": {
            "tags": []
          },
          "execution_count": 25
        }
      ]
    },
    {
      "cell_type": "code",
      "metadata": {
        "colab": {
          "base_uri": "https://localhost:8080/",
          "height": 298
        },
        "id": "tbBF0YsUejSH",
        "outputId": "8d680924-7235-4e05-d058-310fae033fa4"
      },
      "source": [
        "plt.scatter(times, well_rate)\r\n",
        "plt.title('First production well in Python and Google Colab')"
      ],
      "execution_count": 26,
      "outputs": [
        {
          "output_type": "execute_result",
          "data": {
            "text/plain": [
              "Text(0.5, 1.0, 'First production well in Python and Google Colab')"
            ]
          },
          "metadata": {
            "tags": []
          },
          "execution_count": 26
        },
        {
          "output_type": "display_data",
          "data": {
            "image/png": "[encoded data removed]",
            "text/plain": [
              "<Figure size 432x288 with 1 Axes>"
            ]
          },
          "metadata": {
            "tags": [],
            "needs_background": "light"
          }
        }
      ]
    },
    {
      "cell_type": "markdown",
      "metadata": {
        "id": "_bSFP3k7fKrq"
      },
      "source": [
        "### This is the Duong equation for unconventional production wells decline\r\n",
        "\r\n",
        "$$ q=q_it^{-m}\\exp ^{\\frac{a}{1-m}(t^{1-m}-1)}$$"
      ]
    },
    {
      "cell_type": "code",
      "metadata": {
        "id": "UGA0QEpEe8D9"
      },
      "source": [
        "def duong_eq(time, initial_rate, coef_a, coef_m):\r\n",
        "  term1 = (a/(1-m))*(time**(1-m)-1)\r\n",
        "  rate = initial_rate*time**-m*(math.exp(term1))\r\n",
        "  return rate"
      ],
      "execution_count": 27,
      "outputs": []
    },
    {
      "cell_type": "code",
      "metadata": {
        "colab": {
          "base_uri": "https://localhost:8080/"
        },
        "id": "RJ2WerUjgIXg",
        "outputId": "f0efad9b-bdc3-413f-ef80-988b1f44d55e"
      },
      "source": [
        "tx = 300\r\n",
        "a = 1.2\r\n",
        "m = 1.5\r\n",
        "qi = 6000\r\n",
        "duong_eq(tx, qi, a, m)"
      ],
      "execution_count": 28,
      "outputs": [
        {
          "output_type": "execute_result",
          "data": {
            "text/plain": [
              "11.081499117943537"
            ]
          },
          "metadata": {
            "tags": []
          },
          "execution_count": 28
        }
      ]
    },
    {
      "cell_type": "code",
      "metadata": {
        "colab": {
          "base_uri": "https://localhost:8080/"
        },
        "id": "2r6ibkxjhmkV",
        "outputId": "31cf5b95-d9cb-4ff8-b4a0-35c619cb6bfe"
      },
      "source": [
        "pred_rates = []\r\n",
        "pred_rates"
      ],
      "execution_count": 33,
      "outputs": [
        {
          "output_type": "execute_result",
          "data": {
            "text/plain": [
              "[]"
            ]
          },
          "metadata": {
            "tags": []
          },
          "execution_count": 33
        }
      ]
    },
    {
      "cell_type": "code",
      "metadata": {
        "id": "jgaKAoyHgcvy"
      },
      "source": [
        "for timex in times:\r\n",
        "  pred_rates.append(duong_eq(timex, qi, a, m))\r\n",
        "  #print('this is the current time: ', timex)\r\n",
        "  #print('this is the current rate: ', duong_eq(timex, qi, a, m))"
      ],
      "execution_count": 34,
      "outputs": []
    },
    {
      "cell_type": "code",
      "metadata": {
        "colab": {
          "base_uri": "https://localhost:8080/"
        },
        "id": "c5pv85ESh27K",
        "outputId": "0f712c56-2717-4059-ecef-89e3414b94ce"
      },
      "source": [
        "pred_rates[:5]"
      ],
      "execution_count": 36,
      "outputs": [
        {
          "output_type": "execute_result",
          "data": {
            "text/plain": [
              "[0.002496838436534498,\n",
              " 259.7035088418628,\n",
              " 102.09619326640846,\n",
              " 59.24237783599549,\n",
              " 39.49592059936338]"
            ]
          },
          "metadata": {
            "tags": []
          },
          "execution_count": 36
        }
      ]
    },
    {
      "cell_type": "code",
      "metadata": {
        "colab": {
          "base_uri": "https://localhost:8080/",
          "height": 282
        },
        "id": "-C4KGigag0BA",
        "outputId": "2914bf8c-cb30-4ef6-c7f0-f81d7c63da12"
      },
      "source": [
        "plt.scatter(times, well_rate)\r\n",
        "plt.plot(times, pred_rates)"
      ],
      "execution_count": 37,
      "outputs": [
        {
          "output_type": "execute_result",
          "data": {
            "text/plain": [
              "[<matplotlib.lines.Line2D at 0x7fc75d03e710>]"
            ]
          },
          "metadata": {
            "tags": []
          },
          "execution_count": 37
        },
        {
          "output_type": "display_data",
          "data": {
            "image/png": "[encoded data removed]",
            "text/plain": [
              "<Figure size 432x288 with 1 Axes>"
            ]
          },
          "metadata": {
            "tags": [],
            "needs_background": "light"
          }
        }
      ]
    },
    {
      "cell_type": "code",
      "metadata": {
        "colab": {
          "base_uri": "https://localhost:8080/",
          "height": 282
        },
        "id": "NMfd9NpFhjoN",
        "outputId": "71ea73e2-b8d9-4793-8947-458fd347af6f"
      },
      "source": [
        "# Let's put all the code together\r\n",
        "tx = 300\r\n",
        "a = 1.6\r\n",
        "m = 1.5\r\n",
        "qi = 8000\r\n",
        "pred_rates = []\r\n",
        "for timex in times:\r\n",
        "  pred_rates.append(duong_eq(timex, qi, a, m))\r\n",
        "plt.scatter(times, well_rate)\r\n",
        "plt.plot(times, pred_rates)"
      ],
      "execution_count": 44,
      "outputs": [
        {
          "output_type": "execute_result",
          "data": {
            "text/plain": [
              "[<matplotlib.lines.Line2D at 0x7fc75cd1f550>]"
            ]
          },
          "metadata": {
            "tags": []
          },
          "execution_count": 44
        },
        {
          "output_type": "display_data",
          "data": {
            "image/png": "[encoded data removed]",
            "text/plain": [
              "<Figure size 432x288 with 1 Axes>"
            ]
          },
          "metadata": {
            "tags": [],
            "needs_background": "light"
          }
        }
      ]
    },
    {
      "cell_type": "markdown",
      "metadata": {
        "id": "wnReB9uiiwko"
      },
      "source": [
        "### Automate the process of fitting the coefficients (Next week)"
      ]
    },
    {
      "cell_type": "code",
      "metadata": {
        "id": "IB_1jR96iiM3"
      },
      "source": [
        "curve_fit()"
      ],
      "execution_count": null,
      "outputs": []
    }
  ]
}